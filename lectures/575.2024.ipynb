{
 "cells": [
  {
   "cell_type": "code",
   "execution_count": null,
   "id": "dbe74c25-558c-4ce8-b5b2-f125b01687b5",
   "metadata": {},
   "outputs": [],
   "source": [
    "import numpy as np\n",
    "import random\n",
    "\"\n",
    "students = [\"Erik\", \"Arielle\", \"Ariel\", \"Katie\", \"Tommy\", \"Jacob\"] #, \"Brian\", \"Enisha\", \"Ria\"\n",
    "\n",
    "def call_on(class_list):\n",
    "    '''Call on a random student'''\n",
    "    return random.choice(students)\n",
    "    "
   ]
  },
  {
   "cell_type": "code",
   "execution_count": null,
   "id": "8aaf6e3b-306d-4ca7-96d3-68faed17b13f",
   "metadata": {},
   "outputs": [],
   "source": [
    "call_on(students)"
   ]
  },
  {
   "cell_type": "code",
   "execution_count": null,
   "id": "bbab301f-3282-4e27-9314-42ff9d565496",
   "metadata": {},
   "outputs": [],
   "source": []
  },
  {
   "cell_type": "code",
   "execution_count": null,
   "id": "29e1ab8d-4e65-4669-81f4-7f28c2a47a32",
   "metadata": {},
   "outputs": [],
   "source": [
    "random.randint(1,100)"
   ]
  },
  {
   "cell_type": "code",
   "execution_count": null,
   "id": "ba511a01-8fe4-4df6-94de-6b89b5ea8fa9",
   "metadata": {},
   "outputs": [],
   "source": []
  }
 ],
 "metadata": {
  "kernelspec": {
   "display_name": "Python 3 (ipykernel)",
   "language": "python",
   "name": "python3"
  },
  "language_info": {
   "codemirror_mode": {
    "name": "ipython",
    "version": 3
   },
   "file_extension": ".py",
   "mimetype": "text/x-python",
   "name": "python",
   "nbconvert_exporter": "python",
   "pygments_lexer": "ipython3",
   "version": "3.12.1"
  }
 },
 "nbformat": 4,
 "nbformat_minor": 5
}
